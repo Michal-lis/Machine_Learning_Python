{
 "cells": [
  {
   "cell_type": "markdown",
   "metadata": {},
   "source": [
    "### Lab 2: Regression\n",
    "\n",
    "We will look at Single Linear Regression, Multi-Linear Regression and a simpler Non-Linear Regression (Polynomial Regression). There are many advanced forms of regression that we won't touch upon including those using kernels, gaussian processes, neural nets, decision trees, xgboost etc. The idea here though is to get a thorough feel for key concepts. However gaining a quick familiarity with SciKit will enable you to play with more powerful models.\n",
    "\n",
    "On the coding side we will use Python, Numpy, Pandas and SciKit Learn. Some of the simpler algorithms we will code up and then compare with Scikit's implementation.\n",
    "\n",
    "Regression is a bit too broad to go through in one lab to be honest, but we will touch upon over-fitting and regularisation and try to give some intuitions, as well handling training data. For the most part we will either use the Normal equations or Scikit's library. The normal equations become unwieldy with large amounts of data, so at the end we will touch upon gradient descent.\n",
    "\n",
    "If this is your first view of regression, Sci-Kit learn and Python then it is a big area, so don't worry too much. The main idea is to introduce some tools. The actual amount of code implementation is a small proportion of the notebook and for those less familiar with Python just understand the high level view of what is happening and be able to use the tools. "
   ]
  },
  {
   "cell_type": "markdown",
   "metadata": {},
   "source": [
    "### References\n",
    "\n",
    "Some of the code in this tutorial originally comes from code accompanying 'Hand's on Machine Learning sith Scikit-Learn and Tensorflow', by Geron, also the complete tutorial to ridge regression and lasso in python.\n",
    "\n",
    "https://www.analyticsvidhya.com/blog/2016/01/complete-tutorial-ridge-lasso-regression-python/\n",
    "\n",
    "A basic tutorial on Sci-Kit learn may be found at:\n",
    "\n",
    "http://scikit-learn.org/stable/tutorial/basic/tutorial.html\n",
    "\n",
    "and \n",
    "\n",
    "https://www.youtube.com/watch?v=2kT6QOVSgSg\n",
    "\n"
   ]
  },
  {
   "cell_type": "markdown",
   "metadata": {},
   "source": [
    "### Imports\n",
    "Please do not change the cell below, you will see a number of imports. If a Data Scientist uses Python then numpy, pandas and matplotlib are pretty much guaranteed to be part of his toolbox. Scikit learn is a library containing various machine learning models, datasets and useful utilities for handling the data. If you continue in this area it is advisable to become familiar with them."
   ]
  },
  {
   "cell_type": "code",
   "execution_count": 1,
   "metadata": {},
   "outputs": [],
   "source": [
    "#PLEASE DO NOT CHANGE THIS CELL\n",
    "\n",
    "#Standard python libraries for data and visualisation\n",
    "import numpy as np\n",
    "import pandas as pd\n",
    "import matplotlib.pyplot as plt\n",
    "\n",
    "#SciKit Learn a python ML Library\n",
    "#Import models\n",
    "from sklearn.linear_model import LinearRegression\n",
    "from sklearn.linear_model import Ridge\n",
    "from sklearn.linear_model import Lasso\n",
    "\n",
    "#Import error metric\n",
    "from sklearn.metrics import mean_squared_error\n",
    "\n",
    "#Import a dataset\n",
    "from sklearn.datasets import load_boston\n",
    "\n",
    "#Import data munging tools\n",
    "from sklearn.model_selection import train_test_split\n",
    "from sklearn.preprocessing import StandardScaler\n",
    "from sklearn.preprocessing import PolynomialFeatures\n",
    "\n",
    "#Display charts in the notebook\n",
    "%matplotlib inline"
   ]
  },
  {
   "cell_type": "markdown",
   "metadata": {},
   "source": [
    "### Create training data\n",
    "\n",
    "We will begin by creating some linear data with gaussian noise added."
   ]
  },
  {
   "cell_type": "code",
   "execution_count": 2,
   "metadata": {},
   "outputs": [
    {
     "data": {
      "image/png": "[encoded data removed]",
      "text/plain": [
       "<Figure size 432x288 with 1 Axes>"
      ]
     },
     "metadata": {
      "needs_background": "light"
     },
     "output_type": "display_data"
    }
   ],
   "source": [
    "#PLEASE DO NOT CHANGE THIS CELL\n",
    "#We will create some one dimensional data with a bit of noise\n",
    "num_points = 50\n",
    "# Generating evenly spread Xs\n",
    "X = np.linspace(0,100,num_points).reshape(num_points,1)\n",
    "# generating rondom target data for Xs with the second part being a nois\n",
    "y = (4 + 3 * X) + 25*np.random.randn(num_points, 1)\n",
    "\n",
    "#Plot the data, we want to divine a best fit\n",
    "plt.plot(X, y, 'b.')\n",
    "plt.xlabel(\"$x_1$\", fontsize=18)\n",
    "plt.ylabel(\"$y$\", rotation=0, fontsize=18)\n",
    "plt.title('Training Data')\n",
    "plt.show()"
   ]
  },
  {
   "cell_type": "markdown",
   "metadata": {},
   "source": [
    "### Linear Regression\n",
    "\n",
    "The function below accepts training data X and targets y and returns best fit parameters theta. (In the case of a simple one dimensional regression for example, we will return two theta parameters, the bias and linear gradient).\n",
    "\n",
    "Notice above that we have 50 training points, so X will be a numpy array of shape (50,1)\n",
    "\n",
    "### To do: Write a function to fit the data and return optimal parameters\n",
    "\n",
    "Return the best fit parameters theta, for a single linear regression this will be a numpy array of shape (2,1).\n",
    "\n",
    "Steps:\n",
    "\n",
    "a) Prepend a vector of ones onto the training data (to include the bias).\n",
    "\n",
    "b) Calculate theta_best using the normal equation.\n",
    "\n",
    "Consider making the function as general as possible by accepting higher dimensional inputs to save further work when you do multi-linear regression.\n"
   ]
  },
  {
   "cell_type": "code",
   "execution_count": 3,
   "metadata": {},
   "outputs": [],
   "source": [
    "def simple_linear_regression(X, y):\n",
    "    #[your code here\n",
    "    ones=np.ones(X.shape)\n",
    "    X=np.append(ones,X,axis=1)\n",
    "    print(X)\n",
    "    coeff=np.linalg.inv((X.T).dot(X)).dot(X.T).dot(y).T\n",
    "    return coeff\n"
   ]
  },
  {
   "cell_type": "markdown",
   "metadata": {},
   "source": [
    "### Write a function to return predictions\n",
    "\n",
    "### To do: \n",
    "\n",
    "Given parameters theta and data X_test, return predictions y_pred\n",
    "(don't forget about the bias).\n",
    "\n",
    "X_test will be of dimension (50,1), and in the case of single linear regression the return value theta of dimension (2,1)"
   ]
  },
  {
   "cell_type": "code",
   "execution_count": 4,
   "metadata": {},
   "outputs": [],
   "source": [
    "def pred(theta, X_test):\n",
    "    ones=np.ones(X_test.shape)\n",
    "    X_test=np.append(ones,X,axis=1)\n",
    "    y_test=theta.dot(X_test.T)\n",
    "    return y_test"
   ]
  },
  {
   "cell_type": "markdown",
   "metadata": {},
   "source": [
    "### Make the predictions on X\n",
    "\n",
    "### To do: Use your two functions to create predictions given the data X\n",
    "\n",
    "Call the variable containing the predictions ypred"
   ]
  },
  {
   "cell_type": "code",
   "execution_count": 5,
   "metadata": {},
   "outputs": [
    {
     "name": "stdout",
     "output_type": "stream",
     "text": [
      "[[  1.           0.        ]\n",
      " [  1.           2.04081633]\n",
      " [  1.           4.08163265]\n",
      " [  1.           6.12244898]\n",
      " [  1.           8.16326531]\n",
      " [  1.          10.20408163]\n",
      " [  1.          12.24489796]\n",
      " [  1.          14.28571429]\n",
      " [  1.          16.32653061]\n",
      " [  1.          18.36734694]\n",
      " [  1.          20.40816327]\n",
      " [  1.          22.44897959]\n",
      " [  1.          24.48979592]\n",
      " [  1.          26.53061224]\n",
      " [  1.          28.57142857]\n",
      " [  1.          30.6122449 ]\n",
      " [  1.          32.65306122]\n",
      " [  1.          34.69387755]\n",
      " [  1.          36.73469388]\n",
      " [  1.          38.7755102 ]\n",
      " [  1.          40.81632653]\n",
      " [  1.          42.85714286]\n",
      " [  1.          44.89795918]\n",
      " [  1.          46.93877551]\n",
      " [  1.          48.97959184]\n",
      " [  1.          51.02040816]\n",
      " [  1.          53.06122449]\n",
      " [  1.          55.10204082]\n",
      " [  1.          57.14285714]\n",
      " [  1.          59.18367347]\n",
      " [  1.          61.2244898 ]\n",
      " [  1.          63.26530612]\n",
      " [  1.          65.30612245]\n",
      " [  1.          67.34693878]\n",
      " [  1.          69.3877551 ]\n",
      " [  1.          71.42857143]\n",
      " [  1.          73.46938776]\n",
      " [  1.          75.51020408]\n",
      " [  1.          77.55102041]\n",
      " [  1.          79.59183673]\n",
      " [  1.          81.63265306]\n",
      " [  1.          83.67346939]\n",
      " [  1.          85.71428571]\n",
      " [  1.          87.75510204]\n",
      " [  1.          89.79591837]\n",
      " [  1.          91.83673469]\n",
      " [  1.          93.87755102]\n",
      " [  1.          95.91836735]\n",
      " [  1.          97.95918367]\n",
      " [  1.         100.        ]]\n",
      "[[-7.52099335  3.19297851]]\n",
      "[[ -7.52099335]\n",
      " [ -1.00471068]\n",
      " [  5.51157199]\n",
      " [ 12.02785466]\n",
      " [ 18.54413733]\n",
      " [ 25.06042   ]\n",
      " [ 31.57670266]\n",
      " [ 38.09298533]\n",
      " [ 44.609268  ]\n",
      " [ 51.12555067]\n",
      " [ 57.64183334]\n",
      " [ 64.15811601]\n",
      " [ 70.67439868]\n",
      " [ 77.19068135]\n",
      " [ 83.70696401]\n",
      " [ 90.22324668]\n",
      " [ 96.73952935]\n",
      " [103.25581202]\n",
      " [109.77209469]\n",
      " [116.28837736]\n",
      " [122.80466003]\n",
      " [129.3209427 ]\n",
      " [135.83722536]\n",
      " [142.35350803]\n",
      " [148.8697907 ]\n",
      " [155.38607337]\n",
      " [161.90235604]\n",
      " [168.41863871]\n",
      " [174.93492138]\n",
      " [181.45120404]\n",
      " [187.96748671]\n",
      " [194.48376938]\n",
      " [201.00005205]\n",
      " [207.51633472]\n",
      " [214.03261739]\n",
      " [220.54890006]\n",
      " [227.06518273]\n",
      " [233.58146539]\n",
      " [240.09774806]\n",
      " [246.61403073]\n",
      " [253.1303134 ]\n",
      " [259.64659607]\n",
      " [266.16287874]\n",
      " [272.67916141]\n",
      " [279.19544407]\n",
      " [285.71172674]\n",
      " [292.22800941]\n",
      " [298.74429208]\n",
      " [305.26057475]\n",
      " [311.77685742]]\n"
     ]
    }
   ],
   "source": [
    "#[your code here]\n",
    "my_coeffs=simple_linear_regression(X,y)\n",
    "print(my_coeffs)\n",
    "ypred=pred(my_coeffs,X).T\n",
    "print(ypred)"
   ]
  },
  {
   "cell_type": "markdown",
   "metadata": {},
   "source": [
    "### Now use scikit learn\n",
    "\n",
    "### To do:\n",
    "\n",
    "1) Create a linear regression model\n",
    "\n",
    "2) fit the model using X and y\n",
    "\n",
    "3) Predict y given the fitted model and X - put this in variable y_lr\n",
    "\n",
    "4) Calculate Mean squared errors for the hand coded and the scikit models, call the variables mse and mse_lr\n",
    "\n"
   ]
  },
  {
   "cell_type": "code",
   "execution_count": 6,
   "metadata": {
    "scrolled": true
   },
   "outputs": [
    {
     "name": "stdout",
     "output_type": "stream",
     "text": [
      "()\n",
      "From scikit lr model:\n",
      " None\n",
      "Score =  0.9211291030520586\n",
      "Coef =  [[0.         3.19297851]]\n"
     ]
    }
   ],
   "source": [
    "#[your code here]\n",
    "def typical_linear_regression(X,y):\n",
    "    ones=np.ones(X.shape)\n",
    "    X=np.append(ones,X,axis=1)\n",
    "    reg = LinearRegression().fit(X,y)\n",
    "    print(\"Score = \",reg.score(X,y))\n",
    "    print(\"Coef = \", reg.coef_)\n",
    "    return reg.predict(X)\n",
    "#Solution\n",
    "def calculate_mse(y_true,y_pred):\n",
    "    mse = np.subtract(y_true.T,y_pred)\n",
    "    mse = np.square(mse)\n",
    "    mse = np.sum(mse)\n",
    "    print(mse.shape)\n",
    "#     mse = mse/\n",
    "#     return(mse)\n",
    "# print(\"From my model:\",calculate_mse(y,y_lr))\n",
    "print(\"From scikit lr model:\\n\",calculate_mse(y,ypred))\n",
    "y_lr=typical_linear_regression(X,y)"
   ]
  },
  {
   "cell_type": "markdown",
   "metadata": {},
   "source": [
    "### Examine results:\n",
    "\n",
    "Nothing to do here, if everything has been carried out correctly you should see the training data (as blue dots). The line of best fit from your own code ypred, and the best fit from your scikit learn implementation (green x's).\n",
    "\n",
    "The red line should be a good fit to the blue training data and the green x's should be an exact match to the red line. The mean squared errors are also reported and should be essentially the same."
   ]
  },
  {
   "cell_type": "code",
   "execution_count": 7,
   "metadata": {},
   "outputs": [
    {
     "data": {
      "image/png": "[encoded data removed]",
      "text/plain": [
       "<Figure size 432x288 with 1 Axes>"
      ]
     },
     "metadata": {
      "needs_background": "light"
     },
     "output_type": "display_data"
    }
   ],
   "source": [
    "#PLEASE DO NOT CHANGE THIS CELL\n",
    "#We wish to plot the variables you created ypred, y_lr\n",
    "#Plot the predictions and MSE's - you should have a staight line fit and the line exactly\n",
    "#matching the crosses through the data, the MSE's should also be equal to a large number of decimal places\n",
    "plt.plot(X, y, 'b.')\n",
    "plt.plot(X, ypred, 'r-')\n",
    "plt.plot(X, y_lr, 'g+')\n",
    "plt.xlabel(\"$x_1$\", fontsize=18)\n",
    "plt.ylabel(\"$y$\", rotation=0, fontsize=18)\n",
    "plt.show()\n",
    "# print(\"MSE - Sci kit\",mse_lr,\",\",\"MSE - Hand-Coded\",mse)"
   ]
  },
  {
   "cell_type": "markdown",
   "metadata": {},
   "source": [
    "### Multiple Linear Regression\n",
    "\n",
    "We will now examine multiple linear regression, this time we will go through the Scikit workflow. To avoid data cleaning/ munging etc. we will use the diabetes data from Scikit-learn. The dataset contains ten baseline variables, age, sex, body mass index, average blood pressure, and six blood serum measurements from diabetes patients, as well as the response of interest, a quantitative measure of disease progression one year after baseline."
   ]
  },
  {
   "cell_type": "code",
   "execution_count": 8,
   "metadata": {},
   "outputs": [
    {
     "ename": "NameError",
     "evalue": "name 'load_diabetes' is not defined",
     "output_type": "error",
     "traceback": [
      "\u001b[0;31m--------------------------------------------------------------------------\u001b[0m",
      "\u001b[0;31mNameError\u001b[0m                                Traceback (most recent call last)",
      "\u001b[0;32m<ipython-input-8-5d5d7600c257>\u001b[0m in \u001b[0;36m<module>\u001b[0;34m\u001b[0m\n\u001b[1;32m      1\u001b[0m \u001b[0;31m##PLEASE DO NOT CHANGE THIS CELL: Load the diabetes data\u001b[0m\u001b[0;34m\u001b[0m\u001b[0;34m\u001b[0m\u001b[0;34m\u001b[0m\u001b[0m\n\u001b[0;32m----> 2\u001b[0;31m \u001b[0mdiabetes\u001b[0m \u001b[0;34m=\u001b[0m \u001b[0mload_diabetes\u001b[0m\u001b[0;34m(\u001b[0m\u001b[0;34m)\u001b[0m\u001b[0;34m\u001b[0m\u001b[0;34m\u001b[0m\u001b[0m\n\u001b[0m\u001b[1;32m      3\u001b[0m \u001b[0mX_diabetes\u001b[0m \u001b[0;34m=\u001b[0m \u001b[0mdiabetes\u001b[0m\u001b[0;34m[\u001b[0m\u001b[0;34m'data'\u001b[0m\u001b[0;34m]\u001b[0m\u001b[0;34m\u001b[0m\u001b[0;34m\u001b[0m\u001b[0m\n\u001b[1;32m      4\u001b[0m \u001b[0my_diabetes\u001b[0m \u001b[0;34m=\u001b[0m \u001b[0mdiabetes\u001b[0m\u001b[0;34m[\u001b[0m\u001b[0;34m'target'\u001b[0m\u001b[0;34m]\u001b[0m\u001b[0;34m\u001b[0m\u001b[0;34m\u001b[0m\u001b[0m\n",
      "\u001b[0;31mNameError\u001b[0m: name 'load_diabetes' is not defined"
     ]
    }
   ],
   "source": [
    "##PLEASE DO NOT CHANGE THIS CELL: Load the diabetes data\n",
    "diabetes = load_diabetes()\n",
    "X_diabetes = diabetes['data']\n",
    "y_diabetes = diabetes['target']"
   ]
  },
  {
   "cell_type": "markdown",
   "metadata": {},
   "source": [
    "### End to End Diabetes\n",
    "\n",
    "### To Do:\n",
    "\n",
    "1) Create a train/test split - hint use train_test_split(), choose a test_sise=0.2, and a random_state=42, call the variable containing the test targets y_test.\n",
    "\n",
    "2) Linear regression parameter outputs are dependent on the scale of the features, use the StandardScalar to fit/ transform the training data and to fit the test data. (Why do we not also fit on the test data?)\n",
    "\n",
    "3) Create a linear regression model, fit it, and store predictions for X_test in a variable called y_lr_diabetes.\n",
    "\n",
    "4) How good is your trained model on the test data? Calculate the mean squared error between y_test and y_lr_diabetes, store the result in a variable called mse_lr_diabetes."
   ]
  },
  {
   "cell_type": "code",
   "execution_count": null,
   "metadata": {},
   "outputs": [],
   "source": [
    "#[your code here]: Split\n",
    "\n",
    "#[your code here]: Standardise\n",
    "\n",
    "#[your code here]: Fit\n",
    "\n",
    "#[your code here]: MSE\n"
   ]
  },
  {
   "cell_type": "markdown",
   "metadata": {},
   "source": [
    "### Now use your own model as before.\n",
    "\n",
    "If you already coded your function to handle multiple dimensions you have no alterations to make to the simple linear regression function, otherwise you will need to generalise a little for higher dimensional data.\n",
    "\n",
    "### To Do:\n",
    "\n",
    "1) Use the simple linear regression function with training inputs from your standard scalar to fit parameters theta\n",
    "\n",
    "2) Make your predictions given your parameters and input test data\n",
    "\n",
    "3) Calculate the mean squared errors of your predictions\n",
    "\n",
    "Store your predictions for X_test in a variable called y_pred_diabetes"
   ]
  },
  {
   "cell_type": "code",
   "execution_count": null,
   "metadata": {},
   "outputs": [],
   "source": [
    "#[your code here]\n"
   ]
  },
  {
   "cell_type": "markdown",
   "metadata": {},
   "source": [
    "### Examine results - Your model v Scikit\n",
    "\n",
    "Because we are dealing with multiple dimensions visualisation is less simple, below we show our model compared the the Scikit learn version, we will do a scatter graph against the y_test results. We would hope the pattern is close to identical. \n",
    "\n",
    "We also show the mean squared errors on the test set of the two models which should be the same to a high precision."
   ]
  },
  {
   "cell_type": "code",
   "execution_count": null,
   "metadata": {},
   "outputs": [],
   "source": [
    "##PLEASE DO NOT CHANGE THIS CELL\n",
    "\n",
    "fig, axes = plt.subplots(1, 2, sharex=True)\n",
    "axes[0].scatter(ypred_diabetes,y_test)\n",
    "axes[0].set_title(\"Linear Regression\")\n",
    "axes[1].scatter(y_lr_diabetes,y_test)\n",
    "axes[1].set_title(\"SKLearn Linear Regression\")\n",
    "\n",
    "\n",
    "print(\"MSE-hand coded\",mse_ypred_diabetes, \"MSE-Sci-Kit\",mse_lr_diabetes)"
   ]
  },
  {
   "cell_type": "markdown",
   "metadata": {},
   "source": [
    "### Non-Linear Regression by hand"
   ]
  },
  {
   "cell_type": "markdown",
   "metadata": {},
   "source": [
    "We will now examine non-linear regression, here using basic polynomial features, the underlying function is a cubic, again noise is added. In terms of training our model only sees the noisy data. The 'ground truth', test data would be the underlying cubic."
   ]
  },
  {
   "cell_type": "code",
   "execution_count": null,
   "metadata": {},
   "outputs": [],
   "source": [
    "#PLEASE DO NOT CHANGE THIS CELL\n",
    "\n",
    "num_points = 50\n",
    "X = np.linspace(-3,5,num_points).reshape(num_points,1) \n",
    "y_clean = X**3 \n",
    "y = y_clean + 25*np.random.randn(num_points, 1)"
   ]
  },
  {
   "cell_type": "markdown",
   "metadata": {},
   "source": [
    "### To Do:\n",
    "\n",
    "Scale the training data X using the standard scalar. Store in X"
   ]
  },
  {
   "cell_type": "code",
   "execution_count": null,
   "metadata": {},
   "outputs": [],
   "source": [
    "#[your code here]\n"
   ]
  },
  {
   "cell_type": "markdown",
   "metadata": {},
   "source": [
    "### Nothing to do, we will plot the scaled training data.\n",
    "\n",
    "The x axis should have been rescaled with axis extremes around -1.5/1.5"
   ]
  },
  {
   "cell_type": "code",
   "execution_count": null,
   "metadata": {},
   "outputs": [],
   "source": [
    "#PLEASE DO NOT CHANGE THIS CELL\n",
    "\n",
    "#Plot the data\n",
    "plt.plot(X, y, 'b.')\n",
    "plt.xlabel(\"$x_1$\", fontsize=18)\n",
    "plt.ylabel(\"$y$\", rotation=0, fontsize=18)\n",
    "plt.show()"
   ]
  },
  {
   "cell_type": "markdown",
   "metadata": {},
   "source": [
    "### For interest only \n",
    "\n",
    "In the cell below we show the training data X, the training targets y and the features we would use for polynomial regression. It is simply a linear regression with input features transformed, we create these to hand-code the Scikit implementation above. In the cell below we show the input features used for the regression."
   ]
  },
  {
   "cell_type": "code",
   "execution_count": null,
   "metadata": {},
   "outputs": [],
   "source": [
    "#PLEASE DO NOT CHANGE THIS CELL\n",
    "data = pd.DataFrame(np.column_stack([X,y]),columns=['X','y'])\n",
    "\n",
    "\n",
    "for i in range(2,30):  \n",
    "    colname = 'X_%d'%i      \n",
    "    data[colname] = data['X']**i\n",
    "print(data.head())"
   ]
  },
  {
   "cell_type": "markdown",
   "metadata": {},
   "source": [
    "### For interest only \n",
    "\n",
    "Here we have a function that performs linear regression and plots and calculates the residual sum of squares on a number of polynomial models.\n",
    "\n",
    "### Question:\n",
    "\n",
    "What is the residual sum of squares? How is it different to mean squared error and why do we care about all these error functions? If we performed classification would we have a different error function for example?"
   ]
  },
  {
   "cell_type": "code",
   "execution_count": null,
   "metadata": {},
   "outputs": [],
   "source": [
    "#PLEASE DO NOT CHANGE THIS CELL\n",
    "def linear_regression(data, power, models_to_plot):\n",
    "    predictors=['X']\n",
    "    if power>=2:\n",
    "        predictors.extend(['X_%d'%i for i in range(2,power+1)])\n",
    "    \n",
    "    #Fit the model\n",
    "    linreg = LinearRegression() #normalize=True)\n",
    "    linreg.fit(data[predictors],data['y'])\n",
    "    y_pred = linreg.predict(data[predictors])\n",
    "    \n",
    "    #Check if a plot is to be made for the entered power\n",
    "    if power in models_to_plot:\n",
    "        plt.subplot(models_to_plot[power])\n",
    "        plt.tight_layout()\n",
    "        plt.plot(data['X'],y_pred)\n",
    "        plt.plot(data['X'],data['y'],'.')\n",
    "        #plt.plot(data['X'],y_clean)\n",
    "        plt.title('Plot for power: %d'%power)\n",
    "    \n",
    "    #Return the result in pre-defined format\n",
    "    rss = sum((y_pred-data['y'])**2)\n",
    "    ret = [rss]\n",
    "    ret.extend([linreg.intercept_])\n",
    "    ret.extend(linreg.coef_)\n",
    "    return ret"
   ]
  },
  {
   "cell_type": "markdown",
   "metadata": {},
   "source": [
    "### Results\n",
    "\n",
    "In the cell below we show the fit for a number of polynomials of varying degrees. \n",
    "\n",
    "### Question:\n",
    "\n",
    "Which do you think show bias? And which over-fitting?"
   ]
  },
  {
   "cell_type": "code",
   "execution_count": null,
   "metadata": {},
   "outputs": [],
   "source": [
    "#PLEASE DO NOT CHANGE THIS CELL\n",
    "#Initialize a dataframe to store the results:\n",
    "col = ['rss','intercept'] + ['coef_X_%d'%i for i in range(1,30)]\n",
    "ind = ['model_pow_%d'%i for i in range(1,30)]\n",
    "coef_matrix_simple = pd.DataFrame(index=ind, columns=col)\n",
    "\n",
    "#Define the powers for which a plot is required:\n",
    "models_to_plot = {1:231,3:232,6:233,12:234,18:235,29:236}\n",
    "\n",
    "#Iterate through all powers and assimilate results\n",
    "for i in range(1,30):\n",
    "    coef_matrix_simple.iloc[i-1,0:i+2] = linear_regression(data, power=i, models_to_plot=models_to_plot)"
   ]
  },
  {
   "cell_type": "markdown",
   "metadata": {},
   "source": [
    "#### Coefficient Matrix\n",
    "\n",
    "The cell below shows the residual sum of squares and coefficients for each of the regressions. For example the cubic has an intercepts and three coeffients. \n",
    "\n",
    "### Questions:\n",
    "\n",
    "1) What do you notice about the residual sum of squares as the degree of the polynomial increases?\n",
    "\n",
    "2) What do you notice about the size of the coefficents as the degree of the polynomial increases?"
   ]
  },
  {
   "cell_type": "code",
   "execution_count": null,
   "metadata": {},
   "outputs": [],
   "source": [
    "#PLEASE DO NOT CHANGE THIS CELL\n",
    "coef_matrix_simple"
   ]
  },
  {
   "cell_type": "markdown",
   "metadata": {},
   "source": [
    "### Linear Regression using Gradient Descent"
   ]
  },
  {
   "cell_type": "markdown",
   "metadata": {},
   "source": [
    "### In reality managing calculating parameters by using the normal equation becomes unwieldy as data scales:\n",
    "\n",
    "\\begin{align}\n",
    "\\theta = (X'X)^{-1}Xy\n",
    "\\end{align}\n",
    "\n",
    "1) Why is this?\n",
    "\n",
    "Alternative methods are to use gradient descent. In the example below we wish to fit the data using batch gradient descent. \n",
    "\n",
    "### To Do:\n",
    "\n",
    "Be sure of the differences between batch, mini-batch and stochastic gradient descent.\n",
    "\n",
    "\n",
    "To keep things straightforward we shall go back to our original linear data plus noise."
   ]
  },
  {
   "cell_type": "code",
   "execution_count": null,
   "metadata": {},
   "outputs": [],
   "source": [
    "#PLEASE DO NOT CHANGE THIS CELL\n",
    "num_points = 50\n",
    "X = np.linspace(0,100,num_points).reshape(num_points,1)\n",
    "y = (4 + 3 * X) + 25*np.random.randn(num_points, 1)\n",
    "\n",
    "scaler = StandardScaler()\n",
    "X = scaler.fit_transform(X)\n",
    "\n",
    "#Plot the data, we want to divine a best fit\n",
    "plt.plot(X, y, 'b.')\n",
    "plt.xlabel(\"$x_1$\", fontsize=18)\n",
    "plt.ylabel(\"$y$\", rotation=0, fontsize=18)\n",
    "plt.title('Training Data')\n",
    "plt.show()"
   ]
  },
  {
   "cell_type": "markdown",
   "metadata": {},
   "source": [
    "### Implement batch gradient descent\n",
    "\n",
    "### To Do:\n",
    "\n",
    "1) Derive the gradient of the error with respect to parameters in linear regression.\n",
    "\n",
    "2) Implement gradient linear regression in code. \n",
    "\n",
    "### Hints...\n",
    "\n",
    "2a) First add a bias as you did previously\n",
    "\n",
    "2b) Create a loop ranging to the number of iterations we wish to perform (n_iterations)\n",
    "\n",
    "2c) Calculate the gradients in the loop\n",
    "\n",
    "2d) Update variable theta_best by taking a step-size eta in the opposite direction to the gradient."
   ]
  },
  {
   "cell_type": "code",
   "execution_count": null,
   "metadata": {},
   "outputs": [],
   "source": [
    "def gradient_linear_regression(X, y, n_iterations):\n",
    "    eta = 0.01\n",
    "    n_iterations = n_iterations \n",
    "    m = X.shape[0]\n",
    "    theta_best = np.random.randn(X.shape[1]+1,1)\n",
    "    \n",
    "    #[your code here]"
   ]
  },
  {
   "cell_type": "code",
   "execution_count": null,
   "metadata": {},
   "outputs": [],
   "source": [
    "#PLEASE DO NOT CHANGE THIS CELL\n",
    "theta_best_10 = gradient_linear_regression(X, y,10)\n",
    "theta_best_30 = gradient_linear_regression(X, y,30)\n",
    "theta_best_50 = gradient_linear_regression(X, y,30)\n",
    "theta_best_100 = gradient_linear_regression(X, y,100)\n",
    "theta_best_500 = gradient_linear_regression(X, y,500)\n",
    "\n",
    "ypred_10 = pred(theta_best_10,X)\n",
    "ypred_30 = pred(theta_best_30,X)\n",
    "ypred_50 = pred(theta_best_50,X)\n",
    "ypred_100 = pred(theta_best_100,X)\n",
    "ypred_500 = pred(theta_best_500,X)"
   ]
  },
  {
   "cell_type": "markdown",
   "metadata": {},
   "source": [
    "### Results Batch gradient descent\n",
    "\n",
    "The training data is fitted by linear regression with gradient descent, however we have used a different number of epochs. That is the number of iterations before we stop learning.\n",
    "\n",
    "### Questions:\n",
    "\n",
    "1) What do you notice as the epochs increase?\n",
    "\n",
    "2) How would you decide the number of epochs to perform?"
   ]
  },
  {
   "cell_type": "code",
   "execution_count": null,
   "metadata": {},
   "outputs": [],
   "source": [
    "#PLEASE DO NOT CHANGE THIS CELL\n",
    "plt.plot(X, y, 'b.', label='Training Data')\n",
    "plt.plot(X, ypred_10, label='Prediction 10 epochs')\n",
    "plt.plot(X, ypred_30, label='Prediction 30 epochs')\n",
    "plt.plot(X, ypred_50, label='Prediction 50 epochs')\n",
    "plt.plot(X, ypred_100,label='Prediction 100 epochs')\n",
    "plt.plot(X, ypred_500, label='Prediction 500 epochs')\n",
    "\n",
    "\n",
    "plt.xlabel(\"$x_1$\", fontsize=18)\n",
    "plt.ylabel(\"$y$\", rotation=0, fontsize=18)\n",
    "\n",
    "plt.title(\"Linear Regression using Gradient Descent\")\n",
    "plt.legend()\n",
    "plt.show()"
   ]
  },
  {
   "cell_type": "code",
   "execution_count": null,
   "metadata": {},
   "outputs": [],
   "source": []
  }
 ],
 "metadata": {
  "kernelspec": {
   "display_name": "Python 3",
   "language": "python",
   "name": "python3"
  },
  "language_info": {
   "codemirror_mode": {
    "name": "ipython",
    "version": 3
   },
   "file_extension": ".py",
   "mimetype": "text/x-python",
   "name": "python",
   "nbconvert_exporter": "python",
   "pygments_lexer": "ipython3",
   "version": "3.6.7"
  }
 },
 "nbformat": 4,
 "nbformat_minor": 2
}
